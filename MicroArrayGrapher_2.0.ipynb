{
 "cells": [
  {
   "cell_type": "code",
   "execution_count": 3,
   "metadata": {
    "hideCode": true,
    "hidePrompt": true,
    "init_cell": true
   },
   "outputs": [],
   "source": [
    "from ipywidgets import interact_manual, interactive, GridspecLayout, AppLayout, Button, Layout, Widget\n",
    "from IPython.display import display\n",
    "import matplotlib\n",
    "import pandas as pd\n",
    "import ipywidgets as widgets\n",
    "import io\n",
    "import plotly.express as px\n",
    "import plotly.io as pio\n",
    "pio.templates.default = \"simple_white\""
   ]
  },
  {
   "cell_type": "code",
   "execution_count": 4,
   "metadata": {
    "hideCode": true,
    "hidePrompt": true,
    "init_cell": true,
    "scrolled": true
   },
   "outputs": [],
   "source": [
    "# DATA FOR STRESS COMPARISONS\n",
    "# retreive files with ANOVA data\n",
    "a0 = pd.read_excel(\"results_part1.xlsx\")\n",
    "b0 = pd.read_excel(\"results_part2.xlsx\")\n",
    "c0 = pd.read_excel(\"results_part3.xlsx\")\n",
    "#d0 = pd.read_csv(\"results_part4.csv\")\n",
    "\n",
    "# combine them\n",
    "result0 = pd.concat([a0, b0, c0])\n",
    "result0.dropna(subset=[\"Gene Symbol\"], inplace=True)\n",
    "result = result0.groupby(['Gene Symbol', 'Tissue', 'Comparison', \"Experiment\"])[\n",
    "    ['p-value', 'Fold-change']].agg([('mean')]).reset_index()\n",
    "result.columns = result.columns.get_level_values(0)\n",
    "\n",
    "\n",
    "# load the expression data and combine/ fix older ones\n",
    "a = pd.read_csv(\"Expressions_all_part1.csv\", dtype={\n",
    "                'Gene Symbol': object, 'Experiment': object})\n",
    "b = pd.read_csv(\"Expressions_all_part2.csv\", dtype={\n",
    "                'Gene Symbol': object, 'Experiment': object})\n",
    "c = pd.read_csv(\"Expressions_all_part3.csv\", dtype={\n",
    "                'Gene Symbol': object, 'Experiment': object})\n",
    "d = pd.read_csv(\"Expressions_all_part4.csv\", dtype={\n",
    "                'Gene Symbol': object, 'Experiment': object})\n",
    "e = pd.read_csv(\"Expressions_all_part5.csv\", dtype={\n",
    "                'Gene Symbol': object, 'Experiment': object})\n",
    "f = pd.read_csv(\"Expressions_all_part6.csv\", dtype={\n",
    "                'Gene Symbol': object, 'Experiment': object})\n",
    "g = pd.read_csv(\"Expressions_all_part7.csv\", dtype={\n",
    "                'Gene Symbol': object, 'Experiment': object})\n",
    "h = pd.read_csv(\"Expressions_all_part8.csv\", dtype={\n",
    "                'Gene Symbol': object, 'Experiment': object})\n",
    "i = pd.read_csv(\"Expressions_all_part9.csv\", dtype={\n",
    "                'Gene Symbol': object, 'Experiment': object})\n",
    "j = pd.read_csv(\"Expressions_all_part10.csv\", dtype={\n",
    "                'Gene Symbol': object, 'Experiment': object})\n",
    "k = pd.read_csv(\"Expressions_all_part11.csv\", dtype={\n",
    "                'Gene Symbol': object, 'Experiment': object})\n",
    "l = pd.read_csv(\"Expressions_all_part12.csv\", dtype={\n",
    "                'Gene Symbol': object, 'Experiment': object})\n",
    "m = pd.read_csv(\"Expressions_all_part13.csv\", dtype={\n",
    "                'Gene Symbol': object, 'Experiment': object})\n",
    "# combine them\n",
    "expressions = pd.concat([a, b, c, d, e, f, g, h, i, j,\n",
    "                         k, l, m], sort=False).reset_index()\n",
    "# clean up a bit\n",
    "expressions.drop(expressions.columns[0], axis=1, inplace=True)\n",
    "expressions.drop(expressions.columns[0], axis=1, inplace=True)"
   ]
  },
  {
   "cell_type": "markdown",
   "metadata": {
    "hideCode": true,
    "hidePrompt": true
   },
   "source": [
    "This program allows exploration of the Eiden Lab microarray data sets 2019.03, 2019.04, and 2019.12. Press the Start/Reset button to begin (or to restart after an analysis)"
   ]
  },
  {
   "cell_type": "code",
   "execution_count": null,
   "metadata": {
    "hideCode": true,
    "hidePrompt": true
   },
   "outputs": [],
   "source": [
    "from traitlets import traitlets\n",
    "# Create a class of buttons which allows me to check which one was pressed\n",
    "\n",
    "\n",
    "class LoadedButton(widgets.Button):\n",
    "    \"\"\"A button that can hold a value as a attribute.\"\"\"\n",
    "\n",
    "    def __init__(self, value=None, *args, **kwargs):\n",
    "        super(LoadedButton, self).__init__(*args, **kwargs)\n",
    "        # Create the value attribute.\n",
    "        self.add_traits(value=traitlets.Any(value))\n",
    "\n",
    "\n",
    "button_layout = widgets.Layout(\n",
    "    border='solid 1px black', height='auto', width='auto')\n",
    "\n",
    "\n",
    "def create_expanded_button(description, button_style):\n",
    "    return LoadedButton(description=description, button_style=button_style, layout=button_layout)"
   ]
  },
  {
   "cell_type": "code",
   "execution_count": null,
   "metadata": {
    "hideCode": true,
    "hidePrompt": true
   },
   "outputs": [],
   "source": [
    "# define GUI\n",
    "def choose_gene(change):\n",
    "    if dropdown.value not in genes2:\n",
    "        if dropdown.value != '':\n",
    "            genes2.append(dropdown.value)\n",
    "            with outgenes:\n",
    "                display(dropdown.value)\n",
    "\n",
    "\n",
    "graph_out1 = widgets.Output()\n",
    "graph_out2 = widgets.Output()\n",
    "\n",
    "\n",
    "def on_value_change(change):\n",
    "    # just be here\n",
    "    print('')\n",
    "\n",
    "\n",
    "def get_vals(go_button):\n",
    "    a = result[result[\"Comparison\"].isin(list(comps.value))]\n",
    "    stats = a[a[\"Gene Symbol\"].isin(genes2)]\n",
    "\n",
    "    sig_genes0 = a[\"Gene Symbol\"].tolist()\n",
    "    sig_genes = list(set(sig_genes0))\n",
    "# Organize the expression values to include selected data\n",
    "    mouse_means0 = expressions[expressions[\"Gene Symbol\"].isin(genes2)]\n",
    "    a = list(comps.value)\n",
    "    b = list(set(expressions[\"Geno and Condition\"]))\n",
    "    com = []\n",
    "    for geno in b:\n",
    "        for comp in a:\n",
    "            if geno in comp:\n",
    "                com.append(geno)\n",
    "    mice_to_include = list(set(com))\n",
    "    mouse_means1 = mouse_means0[mouse_means0[\"Geno and Condition\"].isin(\n",
    "        mice_to_include)]\n",
    "    mouse_means2 = (mouse_means1.groupby(['Gene Symbol', 'Tissue', 'Geno and Condition', \"Experiment\"])['Expression']\n",
    "                    .agg([('average', 'mean'), ('error', 'sem')])\n",
    "                    .reset_index())\n",
    "\n",
    "\n",
    "    return(mouse_means2, stats, sig_genes, mice_to_include)"
   ]
  },
  {
   "cell_type": "code",
   "execution_count": null,
   "metadata": {
    "hideCode": true,
    "hidePrompt": true
   },
   "outputs": [],
   "source": [
    "#Graph it\n",
    "def on_go_button_clicked(go_button):\n",
    "    mouse_means2, stats, sig_genes,mice_to_include = get_vals(go_button)\n",
    "# Mark errors\n",
    "    if len(genes2) < 1:\n",
    "        with outerrors:\n",
    "            print(\"Choose at least one Gene\")\n",
    "    else:\n",
    "        # print(mouse_means2)\n",
    "       # Graph expression\n",
    "        import plotly.graph_objects as go\n",
    "        with graph_out1:\n",
    "            fig = px.bar(\n",
    "                mouse_means2, x=\"Geno and Condition\",\n",
    "                y=\"average\",\n",
    "                facet_col=\"Gene Symbol\",\n",
    "                color=\"Experiment\",\n",
    "                barmode='group',\n",
    "                color_discrete_sequence=px.colors.sequential.Plasma,\n",
    "                error_y=\"error\"\n",
    "            ).for_each_trace(lambda t: t.update(name=t.name.replace(\"=\", \": \")))\n",
    "            for i, a in enumerate(fig['layout']['annotations']):\n",
    "                if a['text'][:5] == 'Exper':\n",
    "                    a['text'] = ''\n",
    "                if a['text'][:5] == 'Gene ':\n",
    "                    a['text'] = a['text'].split(\"=\")[1]\n",
    "            fig.update_layout(\n",
    "                title=\"Expression levels of selected genes\",\n",
    "                yaxis_title=\"Expression\",\n",
    "                xaxis={'categoryorder': 'total descending'})\n",
    "            fig.update_xaxes(automargin=True, tickangle=45)\n",
    "            fig.show()\n",
    "\n",
    "       # Graph statistics\n",
    "        with graph_out2:\n",
    "            fig2 = px.bar(stats, x=\"Comparison\", y=\"Fold-change\",\n",
    "                          # width=800, height=400,\n",
    "                          facet_col=\"Gene Symbol\",\n",
    "                          facet_row=\"Experiment\",\n",
    "                          color_discrete_sequence=px.colors.sequential.Plasma,\n",
    "                          # color = \"p-value\", range_color=[0,p_threshold.value], #Change so user input tells it what p and fc to use\n",
    "                          color=\"Experiment\",\n",
    "                          hover_name=\"Tissue\",\n",
    "                          hover_data=[\"Experiment\", \"Fold-change\", \"p-value\"]\n",
    "                          ).for_each_trace(lambda t: t.update(name=t.name.replace(\"=\", \": \")))\n",
    "            fig2.update_yaxes(title_text='')\n",
    "            fig2.update_xaxes(title_text='', tickangle=45)\n",
    "            for i, a in enumerate(fig2['layout']['annotations']):\n",
    "                if a['text'][:5] == 'Exper':\n",
    "                    a['text'] = ''\n",
    "                if a['text'][:5] == 'Gene ':\n",
    "                    a['text'] = a['text'].split(\"=\")[1]\n",
    "            fig2.update_layout(title=\"ANOVA results\",\n",
    "                               margin=dict(\n",
    "\n",
    "                                   b=250))\n",
    "            # fig.update_xaxes(automargin=True)\n",
    "            fig2.show()\n",
    "\n"
   ]
  },
  {
   "cell_type": "code",
   "execution_count": null,
   "metadata": {
    "hideCode": true,
    "hidePrompt": true
   },
   "outputs": [],
   "source": [
    "allgenes = list(set(result[\"Gene Symbol\"]))\n",
    "style = {'description_width': 'initial'}\n",
    "genes2 = []\n",
    "spacer = widgets.Label('')\n",
    "genetitle = widgets.Label('Select Genes')\n",
    "\n",
    "dropdown = widgets.Combobox(\n",
    "    options=[''],\n",
    "    description='Gene',\n",
    "    placeholder='Type here',\n",
    "    layout={'width': '80%'})\n",
    "dropdown.options = allgenes\n",
    "\n",
    "outgenes = widgets.Output()\n",
    "outgraph = widgets.Output(layout={'border': '1px solid black'})\n",
    "\n",
    "\n",
    "gene_button = widgets.Button(description='Enter Gene',\n",
    "                             button_style='',\n",
    "                             display='flex',\n",
    "                             flex_flow='column',\n",
    "                             align_items='stretch')\n",
    "gene_button.on_click(choose_gene)\n",
    "\n",
    "go_button = widgets.Button(description='Produce Output',\n",
    "                           button_style='',\n",
    "                           display='flex',\n",
    "                           flex_flow='column',\n",
    "                           align_items='stretch')\n",
    "go_button.on_click(on_go_button_clicked)\n",
    "\n",
    "\n",
    "gene_button.observe(dropdown.value)\n",
    "go_button.observe(dropdown.value)\n",
    "\n",
    "\n",
    "graph_out1 = widgets.Output()\n",
    "graph_out2 = widgets.Output()"
   ]
  },
  {
   "cell_type": "code",
   "execution_count": null,
   "metadata": {
    "hideCode": true,
    "hidePrompt": true
   },
   "outputs": [],
   "source": [
    "comps = widgets.SelectMultiple(\n",
    "    options=list(set(result[\"Comparison\"])),\n",
    "    layout=Layout(width='45%', height='230px'),\n",
    "    # rows=10,\n",
    "    description='Compare: ',\n",
    "    disabled=False\n",
    ")"
   ]
  },
  {
   "cell_type": "code",
   "execution_count": null,
   "metadata": {
    "hideCode": true,
    "hidePrompt": true,
    "scrolled": false
   },
   "outputs": [],
   "source": [
    "genes_out_title = widgets.Label('Genes Chosen:')\n",
    "from IPython.core.display import display, HTML\n",
    "s = HTML('''<script> </script> <form action=\"javascript:IPython.notebook.execute_cells_above()\"><input type=\"submit\" id=\"toggleButton\" value=\"Start/Reset\"></form>''')\n",
    "\n",
    "genesbox = widgets.VBox([genetitle, dropdown])\n",
    "genes_out = widgets.VBox([spacer, genes_out_title, outgenes])\n",
    "buttons = widgets.HBox([gene_button, go_button])\n",
    "genechoices = widgets.HBox([genesbox, genes_out])\n",
    "\n",
    "outerrors = widgets.Output()\n",
    "graphit = widgets.VBox([graph_out1, graph_out2])\n",
    "# Put seletcors for p and fc values here\n",
    "top_app = widgets.VBox([genechoices, outerrors, buttons])\n",
    "\n",
    "\n",
    "app = widgets.VBox([comps,top_app, graphit])\n",
    "\n",
    "app"
   ]
  },
  {
   "cell_type": "code",
   "execution_count": null,
   "metadata": {
    "hideCode": true,
    "hidePrompt": true
   },
   "outputs": [],
   "source": [
    "s"
   ]
  }
 ],
 "metadata": {
  "hide_code_all_hidden": true,
  "kernelspec": {
   "display_name": "Python 3",
   "language": "python",
   "name": "python3"
  },
  "language_info": {
   "codemirror_mode": {
    "name": "ipython",
    "version": 3
   },
   "file_extension": ".py",
   "mimetype": "text/x-python",
   "name": "python",
   "nbconvert_exporter": "python",
   "pygments_lexer": "ipython3",
   "version": "3.7.4"
  },
  "varInspector": {
   "cols": {
    "lenName": 16,
    "lenType": 16,
    "lenVar": 40
   },
   "kernels_config": {
    "python": {
     "delete_cmd_postfix": "",
     "delete_cmd_prefix": "del ",
     "library": "var_list.py",
     "varRefreshCmd": "print(var_dic_list())"
    },
    "r": {
     "delete_cmd_postfix": ") ",
     "delete_cmd_prefix": "rm(",
     "library": "var_list.r",
     "varRefreshCmd": "cat(var_dic_list()) "
    }
   },
   "types_to_exclude": [
    "module",
    "function",
    "builtin_function_or_method",
    "instance",
    "_Feature"
   ],
   "window_display": false
  }
 },
 "nbformat": 4,
 "nbformat_minor": 2
}
